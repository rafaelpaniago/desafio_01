{
 "cells": [
  {
   "cell_type": "code",
   "execution_count": 61,
   "id": "81924214",
   "metadata": {},
   "outputs": [],
   "source": [
    "# Importando bibliotecas\n",
    "import pandas as pd\n",
    "import matplotlib.pyplot as plt\n",
    "from reportlab.lib.pagesizes import letter\n",
    "from reportlab.pdfgen import canvas\n",
    "from io import BytesIO\n",
    "from tabulate import tabulate"
   ]
  },
  {
   "cell_type": "code",
   "execution_count": 2,
   "id": "2444ac73",
   "metadata": {},
   "outputs": [],
   "source": [
    "# Importar arquivos e criar os DFs\n",
    "df_clientes = pd.read_excel('clientes.xlsx')\n",
    "df_transacoes = pd.read_excel('transacoes02.xlsx')\n",
    "df_campanhas = pd.read_excel('campanhas02.xlsx')"
   ]
  },
  {
   "cell_type": "code",
   "execution_count": 3,
   "id": "403833db",
   "metadata": {},
   "outputs": [],
   "source": [
    "# Entendendo as bases de dados -- Comandos que irei usar\n",
    "\n",
    "# shape -- quantidade de linhas e colunas\n",
    "# dtypes -- tipos de dados das colunas\n",
    "# isnull sum -- quantidade de valores nulos\n",
    "# nunique(). sort_values -- valores distintos de cada coluna\n",
    "# value_counts() em alguma coluna específica -- valores distintos"
   ]
  },
  {
   "cell_type": "code",
   "execution_count": 4,
   "id": "d639767e",
   "metadata": {},
   "outputs": [
    {
     "name": "stdout",
     "output_type": "stream",
     "text": [
      "LINHAS E COLUNAS\n",
      "Base CLIENTES ->  (38, 8)\n",
      "Base TRANSAÇÕES ->  (36, 6)\n",
      "Base CAMPANHAS -> (36, 6)\n"
     ]
    }
   ],
   "source": [
    "# Verificar tamanho (linhas x colunas)\n",
    "print('LINHAS E COLUNAS')\n",
    "print('Base CLIENTES -> ', df_clientes.shape)\n",
    "print('Base TRANSAÇÕES -> ', df_transacoes.shape)\n",
    "print('Base CAMPANHAS ->', df_campanhas.shape)"
   ]
  },
  {
   "cell_type": "code",
   "execution_count": 5,
   "id": "459092d6",
   "metadata": {},
   "outputs": [
    {
     "data": {
      "text/plain": [
       "id_cooperado                int64\n",
       "nome                       object\n",
       "data_nascimento    datetime64[ns]\n",
       "genero                     object\n",
       "cidade                     object\n",
       "estado                     object\n",
       "data_adesao        datetime64[ns]\n",
       "renda_estimada            float64\n",
       "dtype: object"
      ]
     },
     "execution_count": 5,
     "metadata": {},
     "output_type": "execute_result"
    }
   ],
   "source": [
    "# BASE -- CLIENTES\n",
    "\n",
    "# Vou usar o dtypes para ver os tipos de dados das colunas\n",
    "df_clientes.dtypes"
   ]
  },
  {
   "cell_type": "code",
   "execution_count": 6,
   "id": "43f4c469",
   "metadata": {},
   "outputs": [
    {
     "data": {
      "text/plain": [
       "id_cooperado       0\n",
       "nome               0\n",
       "data_nascimento    0\n",
       "genero             0\n",
       "cidade             0\n",
       "estado             0\n",
       "data_adesao        0\n",
       "renda_estimada     5\n",
       "dtype: int64"
      ]
     },
     "execution_count": 6,
     "metadata": {},
     "output_type": "execute_result"
    }
   ],
   "source": [
    "# BASE -- CLIENTES\n",
    "\n",
    "# Vou usar o isnull() e o sum() para saber a quantidade de valores nulos\n",
    "df_clientes.isnull().sum()"
   ]
  },
  {
   "cell_type": "code",
   "execution_count": 7,
   "id": "aef29194",
   "metadata": {},
   "outputs": [
    {
     "data": {
      "text/plain": [
       "genero              7\n",
       "cidade             11\n",
       "estado             13\n",
       "renda_estimada     31\n",
       "id_cooperado       36\n",
       "data_nascimento    36\n",
       "data_adesao        36\n",
       "nome               38\n",
       "dtype: int64"
      ]
     },
     "execution_count": 7,
     "metadata": {},
     "output_type": "execute_result"
    }
   ],
   "source": [
    "# BASE -- CLIENTES\n",
    "\n",
    "# Vou usar o nunique() para saber qtde de valores distintos de cada coluna\n",
    "df_clientes.nunique().sort_values()"
   ]
  },
  {
   "cell_type": "code",
   "execution_count": 8,
   "id": "6b8e5572",
   "metadata": {},
   "outputs": [
    {
     "data": {
      "text/plain": [
       "estado\n",
       "SP                7\n",
       "SC                7\n",
       "RJ                4\n",
       "MG                4\n",
       "PR                4\n",
       "RS                3\n",
       "Santa Catarina    2\n",
       "sc                2\n",
       "sp                1\n",
       "pr                1\n",
       "rj                1\n",
       "rs                1\n",
       "mg                1\n",
       "Name: count, dtype: int64"
      ]
     },
     "execution_count": 8,
     "metadata": {},
     "output_type": "execute_result"
    }
   ],
   "source": [
    "# BASE -- CLIENTES\n",
    "\n",
    "# Vou usar o value_counts() em colunas específicas para ver os valores distintos\n",
    "df_clientes['estado'].value_counts()"
   ]
  },
  {
   "cell_type": "code",
   "execution_count": 9,
   "id": "4686c4e7",
   "metadata": {},
   "outputs": [],
   "source": [
    "# Tratamento --> BASE -- CLIENTES\n",
    "\n",
    "# Encontrei 5 valores nulos na coluna 'renda_estimada'\n",
    "# Solução --> Vou excluir linhas com renda_estimada null.\n",
    "# Motivo --> Se eu substituir por zero, acredito que possa atrapalhar outros cálculos\n",
    "# Por exemplo --> Se buscarmos a média da renda_estimada, os valores com zero vão mascarar o resultado.\n",
    "\n",
    "# Removendo linhas com valores nulos\n",
    "df_clientes = df_clientes.dropna(subset=['renda_estimada'])"
   ]
  },
  {
   "cell_type": "code",
   "execution_count": 10,
   "id": "c3add01a",
   "metadata": {},
   "outputs": [],
   "source": [
    "# Tratamento --> BASE -- CLIENTES\n",
    "\n",
    "# Encontrei valores duplicados (id 101: 2 ocorrências / id 113: 2 ocorrências)\n",
    "# Percebi que os valores das outras colunas eram iguais.\n",
    "# Então removi a duplicidade e deixei apenas 1 ocorrência de cada id que estava duplicado.\n",
    "\n",
    "# Removendo linha repetida do id 113\n",
    "df_clientes = df_clientes[~((df_clientes['id_cooperado']==113) & (df_clientes['genero'] == 'Masc'))]\n",
    "\n",
    "# Removendo linha repetida do id 101\n",
    "df_clientes = df_clientes[~((df_clientes['id_cooperado']==101) & (df_clientes['genero'] == 'M'))]"
   ]
  },
  {
   "cell_type": "code",
   "execution_count": 11,
   "id": "b30172cf",
   "metadata": {},
   "outputs": [
    {
     "data": {
      "text/plain": [
       "genero\n",
       "masculino    17\n",
       "feminino     14\n",
       "Name: count, dtype: int64"
      ]
     },
     "execution_count": 11,
     "metadata": {},
     "output_type": "execute_result"
    }
   ],
   "source": [
    "# Tratamento --> BASE -- CLIENTES\n",
    "\n",
    "# Encontrei valores distintos na coluna 'genero' para representar a mesma coisa.\n",
    "# Por exemplo, 'Masc' / 'Masculino' / 'masculino'\n",
    "# Solução --> Padronização. Deixar tudo minúsculo e substituir valores pelo valor padrão.\n",
    "# Por exemplo, 'masc' -> 'masculino' / 'M' -> 'masculino'\n",
    "# Além disso, tem um valor com a letra 'o'. Verificando o nome, podemos ajustar para 'masculino'.\n",
    "\n",
    "# Padronizando tudo minúsculo\n",
    "df_clientes['genero'] = df_clientes['genero'].str.lower().str.strip()\n",
    "\n",
    "# Substituindo letras por valores corretos\n",
    "df_clientes['genero'] = df_clientes['genero'].replace({\n",
    "    'm': 'masculino',\n",
    "    'f': 'feminino',\n",
    "    'o': 'masculino'\n",
    "})\n",
    "\n",
    "# Verificando a nvoa contagem distinta\n",
    "df_clientes['genero'].value_counts()"
   ]
  },
  {
   "cell_type": "code",
   "execution_count": 12,
   "id": "88cf21bb",
   "metadata": {},
   "outputs": [
    {
     "data": {
      "text/plain": [
       "cidade\n",
       "blumenau          6\n",
       "sao_paulo         6\n",
       "rio_de_janeiro    4\n",
       "belo_horizonte    4\n",
       "curitiba          4\n",
       "porto_alegre      4\n",
       "florianopolis     3\n",
       "Name: count, dtype: int64"
      ]
     },
     "execution_count": 12,
     "metadata": {},
     "output_type": "execute_result"
    }
   ],
   "source": [
    "# Tratamento --> BASE -- CLIENTES\n",
    "\n",
    "# Encontrei valores distintos na coluna 'cidade' para representar a mesma coisa.\n",
    "# Por exemplo, 'Blumenau1' / 'S. Paulo' / 'São Paulo'\n",
    "# Solução --> Padronização. Deixar tudo minúsculo e separado por \"_\"\n",
    "\n",
    "\n",
    "# Deixando tudo minúsculo e separado por underline\n",
    "df_clientes['cidade'] = df_clientes['cidade'].str.lower().str.strip().str.replace(' ', '_')\n",
    "\n",
    "# Substituindo valores errados pelos corretos\n",
    "df_clientes['cidade'] = df_clientes['cidade'].replace({'s._paulo': 'sao_paulo', 'blumenaul': 'blumenau', 'blumenau1': 'blumenau'})\n",
    "\n",
    "# Verificando a nova contagem distinta\n",
    "df_clientes['cidade'].value_counts()"
   ]
  },
  {
   "cell_type": "code",
   "execution_count": 13,
   "id": "8632e98a",
   "metadata": {},
   "outputs": [
    {
     "data": {
      "text/plain": [
       "estado\n",
       "SC    9\n",
       "SP    6\n",
       "RJ    4\n",
       "MG    4\n",
       "PR    4\n",
       "RS    4\n",
       "Name: count, dtype: int64"
      ]
     },
     "execution_count": 13,
     "metadata": {},
     "output_type": "execute_result"
    }
   ],
   "source": [
    "# Tratamento --> BASE -- CLIENTES\n",
    "\n",
    "# Encontrei valores distintos na coluna 'estado' para representar a mesma coisa.\n",
    "# Por exemplo, 'sc' / 'SC' / 'SANTA CATARINA'\n",
    "# Solução --> Padronização. Deixar tudo maiúsculo e apenas sigla (Ex. 'SC'/ 'SP')\n",
    "\n",
    "# Deixando todos os valores maiúsculos\n",
    "df_clientes['estado'] = df_clientes['estado'].str.upper().str.strip()\n",
    "\n",
    "# Substituindo valor escrito completo pela sigla do estado\n",
    "df_clientes['estado'] = df_clientes['estado'].replace({'SANTA CATARINA': 'SC'})\n",
    "\n",
    "# Verificando a nvoa contagem distinta\n",
    "df_clientes['estado'].value_counts()"
   ]
  },
  {
   "cell_type": "code",
   "execution_count": 14,
   "id": "af0fa025",
   "metadata": {},
   "outputs": [],
   "source": [
    "# Tratamento --> BASE -- TRANSAÇÕES\n",
    "\n",
    "# Verificar valores nulos\n",
    "df_transacoes.isnull().sum()\n",
    "\n",
    "# Encontrei 4 valores nulos na coluna 'valor'\n",
    "# Solução: Se encontrar sinal que a transação é um brinde, bonificação, poderíamos substituir por 0.0\n",
    "\n",
    "# Mas não é o caso, então, irei excluir linhas com esses valores nulos\n",
    "df_transacoes = df_transacoes.dropna(subset=['valor'])"
   ]
  },
  {
   "cell_type": "code",
   "execution_count": 15,
   "id": "bf1dbe15",
   "metadata": {},
   "outputs": [
    {
     "data": {
      "text/plain": [
       "categoria_estabelecimento\n",
       "supermercado    6\n",
       "restaurante     6\n",
       "combustível     4\n",
       "farmácia        3\n",
       "vestuário       3\n",
       "alimentação     3\n",
       "serviços        2\n",
       "lazer           2\n",
       "transporte      1\n",
       "viagem          1\n",
       "eletrônicos     1\n",
       "Name: count, dtype: int64"
      ]
     },
     "execution_count": 15,
     "metadata": {},
     "output_type": "execute_result"
    }
   ],
   "source": [
    "# Tratamento --> BASE -- TRANSAÇÕES\n",
    "\n",
    "# Verificando valores da categoria_estabelecimento\n",
    "# df_transacoes['categoria_estabelecimento'].value_counts()\n",
    "\n",
    "# Podemos notar valores duplicados escritos de forma diferentes\n",
    "# Por exemplo 'restaurante' / 'Rstaurante' / 'Combustível' / 'combustiveis'\n",
    "\n",
    "# Padronizando valores todos minúsculos\n",
    "df_transacoes['categoria_estabelecimento'] = df_transacoes['categoria_estabelecimento'].str.lower().str.strip()\n",
    "\n",
    "# Substituindo valores pelo nome correto padrão\n",
    "df_transacoes['categoria_estabelecimento'] = df_transacoes['categoria_estabelecimento'].replace({'servicos': 'serviços', 'alimentacao': 'alimentação', 'combustiveis': 'combustível'})\n",
    "\n",
    "# Verificando contagem distinta dos valores ajustados\n",
    "df_transacoes['categoria_estabelecimento'].value_counts()\n"
   ]
  },
  {
   "cell_type": "code",
   "execution_count": 16,
   "id": "4f16186b",
   "metadata": {},
   "outputs": [
    {
     "data": {
      "text/plain": [
       "acao               5\n",
       "nome_campanha      6\n",
       "canal              7\n",
       "id_cooperado      28\n",
       "data_interacao    30\n",
       "id_interacao      36\n",
       "dtype: int64"
      ]
     },
     "execution_count": 16,
     "metadata": {},
     "output_type": "execute_result"
    }
   ],
   "source": [
    "# Tratamento --> BASE -- CAMPANHAS\n",
    "\n",
    "# Vou usar o nunique() para saber qtde de valores distintos de cada coluna\n",
    "df_campanhas.nunique().sort_values()"
   ]
  },
  {
   "cell_type": "code",
   "execution_count": 17,
   "id": "988611f1",
   "metadata": {},
   "outputs": [
    {
     "data": {
      "text/plain": [
       "acao\n",
       "Clicou                    11\n",
       "Visualizou                11\n",
       "Abriu                     10\n",
       "Converteu                  3\n",
       "Visualizou # Duplicata     1\n",
       "Name: count, dtype: int64"
      ]
     },
     "execution_count": 17,
     "metadata": {},
     "output_type": "execute_result"
    }
   ],
   "source": [
    "# Tratamento --> BASE -- CAMPANHAS\n",
    "\n",
    "# Valores distintos da coluna 'acao'\n",
    "df_campanhas['acao'].value_counts()"
   ]
  },
  {
   "cell_type": "code",
   "execution_count": 18,
   "id": "255bd159",
   "metadata": {},
   "outputs": [],
   "source": [
    "# Tratamento --> BASE -- CAMPANHAS\n",
    "\n",
    "# Para a base CAMPANHAS eu vou fazer diferente\n",
    "# Vou padronizar o formato dos dados de três colunas de uma vês só\n",
    "# Padronizando valores --> base Campanhas (tudo minúsculo)\n",
    "# Colunas 'nome_campanha' e 'canal' os espaços serão substituídos por '_'\n",
    "df_campanhas['acao'] = df_campanhas['acao'].str.lower().str.strip()\n",
    "df_campanhas['nome_campanha'] = df_campanhas['nome_campanha'].str.lower().str.strip().str.replace(' ', '_')\n",
    "df_campanhas['canal'] = df_campanhas['canal'].str.lower().str.strip().str.replace(' ', '_')"
   ]
  },
  {
   "cell_type": "code",
   "execution_count": 19,
   "id": "d9a2a47f",
   "metadata": {},
   "outputs": [
    {
     "data": {
      "text/plain": [
       "acao\n",
       "visualizou    12\n",
       "clicou        11\n",
       "abriu         10\n",
       "converteu      3\n",
       "Name: count, dtype: int64"
      ]
     },
     "execution_count": 19,
     "metadata": {},
     "output_type": "execute_result"
    }
   ],
   "source": [
    "# Tratamento --> BASE -- CAMPANHAS\n",
    "\n",
    "# Encontrei um \"Visualizou # Duplicate\" na coluna 'acao'\n",
    "# Padronização: Vou ajustar para que fique apenas 'visualizou'\n",
    "df_campanhas['acao'] = df_campanhas['acao'].replace({'visualizou # duplicata': 'visualizou'})\n",
    "\n",
    "# Conferindo valores distintos\n",
    "df_campanhas['acao'].value_counts()"
   ]
  },
  {
   "cell_type": "code",
   "execution_count": 20,
   "id": "dcc2b30c",
   "metadata": {},
   "outputs": [],
   "source": [
    "# Tratamento --> BASE -- CAMPANHAS\n",
    "\n",
    "# Aqui é só um comentário em relação a base CAMPANHAS.\n",
    "# Percebi que a coluna 'nome_campanha' tinha duas formas distintas para cashback fim de ano.\n",
    "# Mas ao ajustar para tudo minúsculo, o problema foi resolvido.\n",
    "# Da mesma forma, a coluna 'canal' também tinha duas formas para EMAIL/email e SMS/sms.\n",
    "# Ao ajustar para tudo minúsculo, o problema foi resolvido."
   ]
  },
  {
   "cell_type": "code",
   "execution_count": 21,
   "id": "23b2da32",
   "metadata": {},
   "outputs": [
    {
     "data": {
      "text/html": [
       "<div>\n",
       "<style scoped>\n",
       "    .dataframe tbody tr th:only-of-type {\n",
       "        vertical-align: middle;\n",
       "    }\n",
       "\n",
       "    .dataframe tbody tr th {\n",
       "        vertical-align: top;\n",
       "    }\n",
       "\n",
       "    .dataframe thead th {\n",
       "        text-align: right;\n",
       "    }\n",
       "</style>\n",
       "<table border=\"1\" class=\"dataframe\">\n",
       "  <thead>\n",
       "    <tr style=\"text-align: right;\">\n",
       "      <th></th>\n",
       "      <th>id_cooperado</th>\n",
       "      <th>nome</th>\n",
       "      <th>data_nascimento</th>\n",
       "      <th>genero</th>\n",
       "      <th>cidade</th>\n",
       "      <th>estado</th>\n",
       "      <th>data_adesao</th>\n",
       "      <th>renda_estimada</th>\n",
       "    </tr>\n",
       "  </thead>\n",
       "  <tbody>\n",
       "    <tr>\n",
       "      <th>1</th>\n",
       "      <td>102</td>\n",
       "      <td>Maria Oliveira</td>\n",
       "      <td>1992-07-22</td>\n",
       "      <td>feminino</td>\n",
       "      <td>rio_de_janeiro</td>\n",
       "      <td>RJ</td>\n",
       "      <td>2018-05-10</td>\n",
       "      <td>4200.50</td>\n",
       "    </tr>\n",
       "    <tr>\n",
       "      <th>2</th>\n",
       "      <td>103</td>\n",
       "      <td>Carlos Pereira</td>\n",
       "      <td>1978-11-01</td>\n",
       "      <td>masculino</td>\n",
       "      <td>blumenau</td>\n",
       "      <td>SC</td>\n",
       "      <td>2010-02-15</td>\n",
       "      <td>7800.00</td>\n",
       "    </tr>\n",
       "    <tr>\n",
       "      <th>3</th>\n",
       "      <td>104</td>\n",
       "      <td>Ana Costa</td>\n",
       "      <td>1995-01-30</td>\n",
       "      <td>feminino</td>\n",
       "      <td>belo_horizonte</td>\n",
       "      <td>MG</td>\n",
       "      <td>2020-08-01</td>\n",
       "      <td>3100.75</td>\n",
       "    </tr>\n",
       "    <tr>\n",
       "      <th>4</th>\n",
       "      <td>105</td>\n",
       "      <td>Pedro Martins</td>\n",
       "      <td>1988-06-10</td>\n",
       "      <td>masculino</td>\n",
       "      <td>blumenau</td>\n",
       "      <td>SC</td>\n",
       "      <td>2016-11-25</td>\n",
       "      <td>6200.00</td>\n",
       "    </tr>\n",
       "    <tr>\n",
       "      <th>6</th>\n",
       "      <td>107</td>\n",
       "      <td>Lucas Santos</td>\n",
       "      <td>1983-04-18</td>\n",
       "      <td>masculino</td>\n",
       "      <td>curitiba</td>\n",
       "      <td>PR</td>\n",
       "      <td>2012-07-07</td>\n",
       "      <td>9500.00</td>\n",
       "    </tr>\n",
       "  </tbody>\n",
       "</table>\n",
       "</div>"
      ],
      "text/plain": [
       "   id_cooperado            nome data_nascimento     genero          cidade  \\\n",
       "1           102  Maria Oliveira      1992-07-22   feminino  rio_de_janeiro   \n",
       "2           103  Carlos Pereira      1978-11-01  masculino        blumenau   \n",
       "3           104       Ana Costa      1995-01-30   feminino  belo_horizonte   \n",
       "4           105   Pedro Martins      1988-06-10  masculino        blumenau   \n",
       "6           107    Lucas Santos      1983-04-18  masculino        curitiba   \n",
       "\n",
       "  estado data_adesao  renda_estimada  \n",
       "1     RJ  2018-05-10         4200.50  \n",
       "2     SC  2010-02-15         7800.00  \n",
       "3     MG  2020-08-01         3100.75  \n",
       "4     SC  2016-11-25         6200.00  \n",
       "6     PR  2012-07-07         9500.00  "
      ]
     },
     "execution_count": 21,
     "metadata": {},
     "output_type": "execute_result"
    }
   ],
   "source": [
    "# VERIFICANDO BASE AJUSTADA -- CLIENTES\n",
    "df_clientes.head()"
   ]
  },
  {
   "cell_type": "code",
   "execution_count": 22,
   "id": "0da0b80c",
   "metadata": {},
   "outputs": [
    {
     "data": {
      "text/html": [
       "<div>\n",
       "<style scoped>\n",
       "    .dataframe tbody tr th:only-of-type {\n",
       "        vertical-align: middle;\n",
       "    }\n",
       "\n",
       "    .dataframe tbody tr th {\n",
       "        vertical-align: top;\n",
       "    }\n",
       "\n",
       "    .dataframe thead th {\n",
       "        text-align: right;\n",
       "    }\n",
       "</style>\n",
       "<table border=\"1\" class=\"dataframe\">\n",
       "  <thead>\n",
       "    <tr style=\"text-align: right;\">\n",
       "      <th></th>\n",
       "      <th>id_transacao</th>\n",
       "      <th>id_cooperado</th>\n",
       "      <th>data_transacao</th>\n",
       "      <th>valor</th>\n",
       "      <th>categoria_estabelecimento</th>\n",
       "      <th>nome_estabelecimento</th>\n",
       "    </tr>\n",
       "  </thead>\n",
       "  <tbody>\n",
       "    <tr>\n",
       "      <th>0</th>\n",
       "      <td>1</td>\n",
       "      <td>101</td>\n",
       "      <td>2025-01-15 10:30:00</td>\n",
       "      <td>150.5</td>\n",
       "      <td>supermercado</td>\n",
       "      <td>Supermercado ABC</td>\n",
       "    </tr>\n",
       "    <tr>\n",
       "      <th>1</th>\n",
       "      <td>2</td>\n",
       "      <td>102</td>\n",
       "      <td>2025-01-16 12:45:10</td>\n",
       "      <td>85.0</td>\n",
       "      <td>restaurante</td>\n",
       "      <td>Restaurante Saboroso</td>\n",
       "    </tr>\n",
       "    <tr>\n",
       "      <th>2</th>\n",
       "      <td>3</td>\n",
       "      <td>103</td>\n",
       "      <td>2025-01-17 08:15:30</td>\n",
       "      <td>220.0</td>\n",
       "      <td>combustível</td>\n",
       "      <td>Posto XYZ</td>\n",
       "    </tr>\n",
       "    <tr>\n",
       "      <th>4</th>\n",
       "      <td>5</td>\n",
       "      <td>105</td>\n",
       "      <td>2025-01-19 14:20:45</td>\n",
       "      <td>55.8</td>\n",
       "      <td>farmácia</td>\n",
       "      <td>Drogaria Bem Estar</td>\n",
       "    </tr>\n",
       "    <tr>\n",
       "      <th>5</th>\n",
       "      <td>6</td>\n",
       "      <td>106</td>\n",
       "      <td>2025-01-20 11:00:55</td>\n",
       "      <td>350.0</td>\n",
       "      <td>vestuário</td>\n",
       "      <td>Loja de Roupas Elegante</td>\n",
       "    </tr>\n",
       "  </tbody>\n",
       "</table>\n",
       "</div>"
      ],
      "text/plain": [
       "   id_transacao  id_cooperado      data_transacao  valor  \\\n",
       "0             1           101 2025-01-15 10:30:00  150.5   \n",
       "1             2           102 2025-01-16 12:45:10   85.0   \n",
       "2             3           103 2025-01-17 08:15:30  220.0   \n",
       "4             5           105 2025-01-19 14:20:45   55.8   \n",
       "5             6           106 2025-01-20 11:00:55  350.0   \n",
       "\n",
       "  categoria_estabelecimento     nome_estabelecimento  \n",
       "0              supermercado         Supermercado ABC  \n",
       "1               restaurante     Restaurante Saboroso  \n",
       "2               combustível                Posto XYZ  \n",
       "4                  farmácia       Drogaria Bem Estar  \n",
       "5                 vestuário  Loja de Roupas Elegante  "
      ]
     },
     "execution_count": 22,
     "metadata": {},
     "output_type": "execute_result"
    }
   ],
   "source": [
    "# VERIFICANDO BASE AJUSTADA -- TRANSAÇÕES\n",
    "df_transacoes.head()"
   ]
  },
  {
   "cell_type": "code",
   "execution_count": 23,
   "id": "cf083bd3",
   "metadata": {},
   "outputs": [
    {
     "data": {
      "text/html": [
       "<div>\n",
       "<style scoped>\n",
       "    .dataframe tbody tr th:only-of-type {\n",
       "        vertical-align: middle;\n",
       "    }\n",
       "\n",
       "    .dataframe tbody tr th {\n",
       "        vertical-align: top;\n",
       "    }\n",
       "\n",
       "    .dataframe thead th {\n",
       "        text-align: right;\n",
       "    }\n",
       "</style>\n",
       "<table border=\"1\" class=\"dataframe\">\n",
       "  <thead>\n",
       "    <tr style=\"text-align: right;\">\n",
       "      <th></th>\n",
       "      <th>id_interacao</th>\n",
       "      <th>id_cooperado</th>\n",
       "      <th>nome_campanha</th>\n",
       "      <th>canal</th>\n",
       "      <th>data_interacao</th>\n",
       "      <th>acao</th>\n",
       "    </tr>\n",
       "  </thead>\n",
       "  <tbody>\n",
       "    <tr>\n",
       "      <th>0</th>\n",
       "      <td>1001</td>\n",
       "      <td>101</td>\n",
       "      <td>cashback_fim_de_ano</td>\n",
       "      <td>email</td>\n",
       "      <td>2024-12-01</td>\n",
       "      <td>abriu</td>\n",
       "    </tr>\n",
       "    <tr>\n",
       "      <th>1</th>\n",
       "      <td>1002</td>\n",
       "      <td>102</td>\n",
       "      <td>seguro_premiado</td>\n",
       "      <td>sms</td>\n",
       "      <td>2024-12-05</td>\n",
       "      <td>clicou</td>\n",
       "    </tr>\n",
       "    <tr>\n",
       "      <th>2</th>\n",
       "      <td>1003</td>\n",
       "      <td>103</td>\n",
       "      <td>cashback_fim_de_ano</td>\n",
       "      <td>push_app</td>\n",
       "      <td>2024-12-02</td>\n",
       "      <td>visualizou</td>\n",
       "    </tr>\n",
       "    <tr>\n",
       "      <th>3</th>\n",
       "      <td>1004</td>\n",
       "      <td>105</td>\n",
       "      <td>investimento_facilitado</td>\n",
       "      <td>email</td>\n",
       "      <td>2024-12-10</td>\n",
       "      <td>abriu</td>\n",
       "    </tr>\n",
       "    <tr>\n",
       "      <th>4</th>\n",
       "      <td>1005</td>\n",
       "      <td>101</td>\n",
       "      <td>cashback_fim_de_ano</td>\n",
       "      <td>email</td>\n",
       "      <td>2024-12-08</td>\n",
       "      <td>clicou</td>\n",
       "    </tr>\n",
       "  </tbody>\n",
       "</table>\n",
       "</div>"
      ],
      "text/plain": [
       "   id_interacao  id_cooperado            nome_campanha     canal  \\\n",
       "0          1001           101      cashback_fim_de_ano     email   \n",
       "1          1002           102          seguro_premiado       sms   \n",
       "2          1003           103      cashback_fim_de_ano  push_app   \n",
       "3          1004           105  investimento_facilitado     email   \n",
       "4          1005           101      cashback_fim_de_ano     email   \n",
       "\n",
       "  data_interacao        acao  \n",
       "0     2024-12-01       abriu  \n",
       "1     2024-12-05      clicou  \n",
       "2     2024-12-02  visualizou  \n",
       "3     2024-12-10       abriu  \n",
       "4     2024-12-08      clicou  "
      ]
     },
     "execution_count": 23,
     "metadata": {},
     "output_type": "execute_result"
    }
   ],
   "source": [
    "# VERIFICANDO BASE AJUSTADA -- CAMPANHAS\n",
    "df_campanhas.head()"
   ]
  },
  {
   "cell_type": "code",
   "execution_count": 24,
   "id": "b3fcb59c",
   "metadata": {},
   "outputs": [],
   "source": [
    "# GERANDO ARQUIVOS CSV COM BASES AJUSTADAS\n",
    "\n",
    "# O código abaixo está comentado, mas foi o código que usei para gerar os novos arquivos XLSX.\n",
    "# Uma observação: Eu sei que daria pra exportar para CSV, mas perdeíamos o tipo datetime das colunas de datas.\n",
    "# Pra isso, ao importar a nova base, seria preciso fazer uma transformação no tipo de dado das colunas de data.\n",
    "# Isso seria feito -> df_clientes['data_adesao] = pd.to_datetime(df_clientes['data_adesao'])\n",
    "# Mas optei por exportar os arquivos em XLSX, mantendo os formatos.\n",
    "\n",
    "# Esses são os arquivos com as bases ajustadas\n",
    "\n",
    "# df_clientes.to_excel('clientes_novo.xlsx', index=False)\n",
    "# df_transacoes.to_excel('transacoes_novo.xlsx', index=False)\n",
    "# df_campanhas.to_excel('campanhas_novo.xlsx', index=False)"
   ]
  },
  {
   "cell_type": "code",
   "execution_count": null,
   "id": "f5d080c1",
   "metadata": {},
   "outputs": [
    {
     "data": {
      "image/png": "[encoded data removed]",
      "text/plain": [
       "<Figure size 600x400 with 1 Axes>"
      ]
     },
     "metadata": {},
     "output_type": "display_data"
    }
   ],
   "source": [
    "# CRIANDO O RELATÓRIO DO PROCESSO DE LIMPEZA\n",
    "\n",
    "# GRAFICO - GENERO BASE CLIENTES\n",
    "\n",
    "contagem_genero = df_clientes['genero'].value_counts()\n",
    "\n",
    "cores_genero = ['#696969', '#D3D3D3'] \n",
    "plt.figure(figsize=(6, 4))\n",
    "barras_genero = contagem_genero.plot(kind='bar', color=cores_genero)\n",
    "plt.title('Gênero - Base de clientes')\n",
    "plt.xlabel('')\n",
    "plt.ylabel('Quantidade')\n",
    "plt.xticks(rotation=0)\n",
    "\n",
    "for bar in barras_genero.patches:\n",
    "    plt.text(bar.get_x() + bar.get_width() / 2, bar.get_height(), f'{int(bar.get_height())}', \n",
    "             ha='center', va='bottom', fontsize=12, color='black')\n",
    "\n",
    "plt.ylim(0, contagem_genero.max() * 1.2)\n",
    "plt.show()"
   ]
  },
  {
   "cell_type": "code",
   "execution_count": 58,
   "id": "d9cf00bb",
   "metadata": {},
   "outputs": [
    {
     "data": {
      "image/png": "[encoded data removed]",
      "text/plain": [
       "<Figure size 800x500 with 1 Axes>"
      ]
     },
     "metadata": {},
     "output_type": "display_data"
    }
   ],
   "source": [
    "# GRAFICO - DISTRIBUIÇÃO CLIENTES - CIDADE\n",
    "\n",
    "# contagem por cidade\n",
    "contagem_cidade = df_clientes['cidade'].value_counts()\n",
    "cores_cidade = ['#696969']\n",
    "\n",
    "# Aqui vou criar um gráfico de barra horizontal\n",
    "plt.figure(figsize=(8, 5))\n",
    "barras_cidade = contagem_cidade.plot(kind='barh', color=cores_cidade[:len(contagem_cidade)])\n",
    "\n",
    "plt.title('Cidades - Base de clientes')\n",
    "plt.xlabel('Quantidade')\n",
    "plt.ylabel('Cidade')\n",
    "plt.ylabel('')\n",
    "plt.yticks([]) \n",
    "\n",
    "for bar, cidade, valor in zip(barras_cidade.patches, contagem_cidade.index, contagem_cidade.values):\n",
    "    plt.text(bar.get_width() / 2, bar.get_y() + bar.get_height() / 2, f'{cidade} ({valor})',\n",
    "             ha='center', va='center', fontsize=12, color='white', fontweight='bold')\n",
    "\n",
    "plt.show()"
   ]
  },
  {
   "cell_type": "code",
   "execution_count": 64,
   "id": "16aa40a4",
   "metadata": {},
   "outputs": [
    {
     "name": "stdout",
     "output_type": "stream",
     "text": [
      "+----+------------------------+--------------+\n",
      "|    | Tipo_estabelecimento   |   Quantidade |\n",
      "+====+========================+==============+\n",
      "|  0 | supermercado           |            6 |\n",
      "+----+------------------------+--------------+\n",
      "|  1 | restaurante            |            6 |\n",
      "+----+------------------------+--------------+\n",
      "|  2 | combustível            |            4 |\n",
      "+----+------------------------+--------------+\n",
      "|  3 | farmácia               |            3 |\n",
      "+----+------------------------+--------------+\n",
      "|  4 | vestuário              |            3 |\n",
      "+----+------------------------+--------------+\n",
      "|  5 | alimentação            |            3 |\n",
      "+----+------------------------+--------------+\n",
      "|  6 | serviços               |            2 |\n",
      "+----+------------------------+--------------+\n",
      "|  7 | lazer                  |            2 |\n",
      "+----+------------------------+--------------+\n",
      "|  8 | transporte             |            1 |\n",
      "+----+------------------------+--------------+\n",
      "|  9 | viagem                 |            1 |\n",
      "+----+------------------------+--------------+\n",
      "| 10 | eletrônicos            |            1 |\n",
      "+----+------------------------+--------------+\n"
     ]
    }
   ],
   "source": [
    "# GRAFICO - TRANSAÇÕES POR TIPO ESTABELECIMENTO\n",
    "\n",
    "# contagem por cidade\n",
    "contagem_transacoes_tipo = df_transacoes['categoria_estabelecimento'].value_counts().reset_index()\n",
    "contagem_transacoes_tipo.columns = ['Tipo_estabelecimento', 'Quantidade']\n",
    "\n",
    "# Exibindo a tabela formatada\n",
    "print(tabulate(contagem_transacoes_tipo, headers='keys', tablefmt='grid'))\n",
    "\n"
   ]
  }
 ],
 "metadata": {
  "kernelspec": {
   "display_name": ".venv",
   "language": "python",
   "name": "python3"
  },
  "language_info": {
   "codemirror_mode": {
    "name": "ipython",
    "version": 3
   },
   "file_extension": ".py",
   "mimetype": "text/x-python",
   "name": "python",
   "nbconvert_exporter": "python",
   "pygments_lexer": "ipython3",
   "version": "3.12.3"
  }
 },
 "nbformat": 4,
 "nbformat_minor": 5
}
